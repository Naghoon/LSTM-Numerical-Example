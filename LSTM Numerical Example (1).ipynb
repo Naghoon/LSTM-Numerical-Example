{
 "cells": [
  {
   "cell_type": "code",
   "execution_count": 1,
   "id": "8965fe2a",
   "metadata": {},
   "outputs": [],
   "source": [
    "import numpy as np\n"
   ]
  },
  {
   "cell_type": "code",
   "execution_count": 2,
   "id": "ff025df7",
   "metadata": {},
   "outputs": [],
   "source": [
    "def sigmoid(x):\n",
    "    return 1 / (1 + np.exp(-x))\n",
    "\n",
    "def tanh(x):\n",
    "    return np.tanh(x)"
   ]
  },
  {
   "cell_type": "code",
   "execution_count": 8,
   "id": "4731ef71",
   "metadata": {},
   "outputs": [],
   "source": [
    "def lstm_forward(X, params):\n",
    "    \"\"\"Compute forward pass for a single-layer LSTM\"\"\"\n",
    "    W_f, W_hf, b_f = params[\"forget\"]\n",
    "    W_i, W_hi, b_i = params[\"input\"]\n",
    "    W_c, W_hc, b_c = params[\"cell\"]\n",
    "    W_o, W_ho, b_o = params[\"output\"]\n",
    "    \n",
    "    h_prev, C_prev = 0, 0  \n",
    "    states = []\n",
    "\n",
    "    for t, x_t in enumerate(X, start=1):\n",
    "        \n",
    "        f_t = sigmoid(W_f * x_t + W_hf * h_prev + b_f)\n",
    "        i_t = sigmoid(W_i * x_t + W_hi * h_prev + b_i)\n",
    "        C_tilde_t = tanh(W_c * x_t + W_hc * h_prev + b_c)\n",
    "        C_t = f_t * C_prev + i_t * C_tilde_t\n",
    "        o_t = sigmoid(W_o * x_t + W_ho * h_prev + b_o)\n",
    "        h_t = o_t * tanh(C_t)\n",
    "\n",
    "        states.append((f_t, i_t, C_tilde_t, C_t, o_t, h_t))\n",
    "        h_prev, C_prev = h_t, C_t\n",
    "    \n",
    "    return states, h_t"
   ]
  },
  {
   "cell_type": "code",
   "execution_count": 9,
   "id": "92057d87",
   "metadata": {},
   "outputs": [
    {
     "name": "stdout",
     "output_type": "stream",
     "text": [
      "Time Step 1:\n",
      "  Forget Gate: 0.6225\n",
      "  Input Gate: 0.6457\n",
      "  Candidate Cell: 0.6044\n",
      "  Cell State: 0.3902\n",
      "  Output Gate: 0.6900\n",
      "  Hidden State: 0.2564\n",
      "\n",
      "Time Step 2:\n",
      "  Forget Gate: 0.7361\n",
      "  Input Gate: 0.7775\n",
      "  Candidate Cell: 0.9009\n",
      "  Cell State: 0.9877\n",
      "  Output Gate: 0.8459\n",
      "  Hidden State: 0.6398\n",
      "\n",
      "Time Step 3:\n",
      "  Forget Gate: 0.8269\n",
      "  Input Gate: 0.8730\n",
      "  Candidate Cell: 0.9798\n",
      "  Cell State: 1.6721\n",
      "  Output Gate: 0.9344\n",
      "  Hidden State: 0.8707\n",
      "\n",
      "Predicted Next Value: 3.5448\n"
     ]
    }
   ],
   "source": [
    "lstm_params = {\n",
    "    \"forget\": (0.5, 0.1, 0),\n",
    "    \"input\": (0.6, 0.2, 0),\n",
    "    \"cell\": (0.7, 0.3, 0),\n",
    "    \"output\": (0.8, 0.4, 0)\n",
    "}\n",
    "\n",
    "\n",
    "X = [1, 2, 3]\n",
    "\n",
    "\n",
    "states, last_hidden = lstm_forward(X, lstm_params)\n",
    "\n",
    "\n",
    "for t, (f_t, i_t, C_tilde_t, C_t, o_t, h_t) in enumerate(states, start=1):\n",
    "    print(f\"Time Step {t}:\")\n",
    "    print(f\"  Forget Gate: {f_t:.4f}\")\n",
    "    print(f\"  Input Gate: {i_t:.4f}\")\n",
    "    print(f\"  Candidate Cell: {C_tilde_t:.4f}\")\n",
    "    print(f\"  Cell State: {C_t:.4f}\")\n",
    "    print(f\"  Output Gate: {o_t:.4f}\")\n",
    "    print(f\"  Hidden State: {h_t:.4f}\\n\")\n",
    "\n",
    "\n",
    "y_pred = 1.2 * last_hidden + 2.5\n",
    "print(f\"Predicted Next Value: {y_pred:.4f}\")\n"
   ]
  },
  {
   "cell_type": "code",
   "execution_count": null,
   "id": "b1831b01",
   "metadata": {},
   "outputs": [],
   "source": []
  }
 ],
 "metadata": {
  "kernelspec": {
   "display_name": "Python 3 (ipykernel)",
   "language": "python",
   "name": "python3"
  },
  "language_info": {
   "codemirror_mode": {
    "name": "ipython",
    "version": 3
   },
   "file_extension": ".py",
   "mimetype": "text/x-python",
   "name": "python",
   "nbconvert_exporter": "python",
   "pygments_lexer": "ipython3",
   "version": "3.9.7"
  }
 },
 "nbformat": 4,
 "nbformat_minor": 5
}
